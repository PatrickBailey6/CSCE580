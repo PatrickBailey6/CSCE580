{
 "cells": [
  {
   "cell_type": "markdown",
   "id": "7f667e57",
   "metadata": {},
   "source": []
  },
  {
   "cell_type": "code",
   "execution_count": 5,
   "id": "c20badba",
   "metadata": {},
   "outputs": [
    {
     "name": "stdout",
     "output_type": "stream",
     "text": [
      "<class 'pandas.core.frame.DataFrame'>\n",
      "RangeIndex: 2200 entries, 0 to 2199\n",
      "Data columns (total 8 columns):\n",
      " #   Column                 Non-Null Count  Dtype \n",
      "---  ------                 --------------  ----- \n",
      " 0   XREF ID                2200 non-null   int64 \n",
      " 1   DISPATCH UNIT          2200 non-null   object\n",
      " 2   DISPATCH CREATED DATE  2200 non-null   object\n",
      " 3   INCIDENT NUMBER        2200 non-null   object\n",
      " 4   1ST UNIT ON SCENE      1772 non-null   object\n",
      " 5   ALARM DATE TIME        2169 non-null   object\n",
      " 6   CALL COMPLETE          2169 non-null   object\n",
      " 7   SHIFT                  2131 non-null   object\n",
      "dtypes: int64(1), object(7)\n",
      "memory usage: 137.6+ KB\n"
     ]
    }
   ],
   "source": [
    "import pandas as pan\n",
    "\n",
    "datafile = \"Redacted-Department _ CAD Reconciliation.csv\"\n",
    "data = pan.read_csv(datafile)\n",
    "data.info()\n"
   ]
  },
  {
   "cell_type": "markdown",
   "id": "679cf245",
   "metadata": {},
   "source": [
    "Our range is 2200 entries"
   ]
  },
  {
   "cell_type": "code",
   "execution_count": null,
   "id": "c5a92c52",
   "metadata": {},
   "outputs": [],
   "source": [
    "data.isna().mean() * 1000"
   ]
  }
 ],
 "metadata": {
  "kernelspec": {
   "display_name": "sklearn-env",
   "language": "python",
   "name": "python3"
  },
  "language_info": {
   "codemirror_mode": {
    "name": "ipython",
    "version": 3
   },
   "file_extension": ".py",
   "mimetype": "text/x-python",
   "name": "python",
   "nbconvert_exporter": "python",
   "pygments_lexer": "ipython3",
   "version": "3.13.7"
  }
 },
 "nbformat": 4,
 "nbformat_minor": 5
}
