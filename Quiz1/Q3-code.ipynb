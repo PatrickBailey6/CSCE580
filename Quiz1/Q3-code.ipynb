{
 "cells": [
  {
   "cell_type": "code",
   "execution_count": 265,
   "id": "c20badba",
   "metadata": {},
   "outputs": [
    {
     "name": "stdout",
     "output_type": "stream",
     "text": [
      "<class 'pandas.core.frame.DataFrame'>\n",
      "RangeIndex: 2200 entries, 0 to 2199\n",
      "Data columns (total 8 columns):\n",
      " #   Column                 Non-Null Count  Dtype \n",
      "---  ------                 --------------  ----- \n",
      " 0   XREF ID                2200 non-null   int64 \n",
      " 1   DISPATCH UNIT          2200 non-null   object\n",
      " 2   DISPATCH CREATED DATE  2200 non-null   object\n",
      " 3   INCIDENT NUMBER        2200 non-null   object\n",
      " 4   1ST UNIT ON SCENE      1772 non-null   object\n",
      " 5   ALARM DATE TIME        2169 non-null   object\n",
      " 6   CALL COMPLETE          2169 non-null   object\n",
      " 7   SHIFT                  2131 non-null   object\n",
      "dtypes: int64(1), object(7)\n",
      "memory usage: 137.6+ KB\n"
     ]
    }
   ],
   "source": [
    "import pandas as pan\n",
    "import sklearn\n",
    "from sklearn import metrics\n",
    "from sklearn.cluster import KMeans, Birch\n",
    "from sklearn.metrics import silhouette_score\n",
    "\n",
    "datafile = \"Redacted-Department _ CAD Reconciliation.csv\"\n",
    "data = pan.read_csv(datafile)\n",
    "data.info()\n"
   ]
  },
  {
   "cell_type": "markdown",
   "id": "679cf245",
   "metadata": {},
   "source": [
    "Our range is 2200 entries"
   ]
  },
  {
   "cell_type": "code",
   "execution_count": 266,
   "id": "c5a92c52",
   "metadata": {},
   "outputs": [
    {
     "name": "stdout",
     "output_type": "stream",
     "text": [
      "Missing data per column (%)\n"
     ]
    },
    {
     "data": {
      "text/plain": [
       "XREF ID                   0.000000\n",
       "DISPATCH UNIT             0.000000\n",
       "DISPATCH CREATED DATE     0.000000\n",
       "INCIDENT NUMBER           0.000000\n",
       "1ST UNIT ON SCENE        19.454545\n",
       "ALARM DATE TIME           1.409091\n",
       "CALL COMPLETE             1.409091\n",
       "SHIFT                     3.136364\n",
       "dtype: float64"
      ]
     },
     "execution_count": 266,
     "metadata": {},
     "output_type": "execute_result"
    }
   ],
   "source": [
    "print(\"Missing data per column (%)\")\n",
    "data.isna().mean() * 100"
   ]
  },
  {
   "cell_type": "markdown",
   "id": "1632d904",
   "metadata": {},
   "source": [
    "There are some inconsistencies in the incident number formatting, with some not containing dashes. There are also multiple instances of the dispatch unit having multiple values separated by commas and will occasionally be surrounded by quotation marks. This will effect our analysis of the who is resolving alarms.\n",
    "\n",
    "We'll drop data that is incomplete to parse data without interruptions by missing information."
   ]
  },
  {
   "cell_type": "code",
   "execution_count": 267,
   "id": "38e9650b",
   "metadata": {},
   "outputs": [
    {
     "name": "stderr",
     "output_type": "stream",
     "text": [
      "/tmp/ipykernel_315163/3891229893.py:2: UserWarning: Could not infer format, so each element will be parsed individually, falling back to `dateutil`. To ensure parsing is consistent and as-expected, please specify a format.\n",
      "  data['ALARM DATE TIME'] = pan.to_datetime(data['ALARM DATE TIME'])\n",
      "/tmp/ipykernel_315163/3891229893.py:3: UserWarning: Could not infer format, so each element will be parsed individually, falling back to `dateutil`. To ensure parsing is consistent and as-expected, please specify a format.\n",
      "  data['CALL COMPLETE'] = pan.to_datetime(data['CALL COMPLETE'])\n"
     ]
    },
    {
     "data": {
      "text/plain": [
       "Timedelta('87 days 07:22:03.593023256')"
      ]
     },
     "execution_count": 267,
     "metadata": {},
     "output_type": "execute_result"
    }
   ],
   "source": [
    "data = data.dropna()\n",
    "data['ALARM DATE TIME'] = pan.to_datetime(data['ALARM DATE TIME'])\n",
    "data['CALL COMPLETE'] = pan.to_datetime(data['CALL COMPLETE'])\n",
    "\n",
    "data['TIME DIFFERENCE'] = data['CALL COMPLETE'] - data['ALARM DATE TIME']\n",
    "data['TIME DIFFERENCE'].mean()"
   ]
  },
  {
   "cell_type": "markdown",
   "id": "faa67a08",
   "metadata": {},
   "source": [
    "The average call completion time is 87 days, 7 hours, and 22 minutes."
   ]
  },
  {
   "cell_type": "code",
   "execution_count": 268,
   "id": "a9e1a152",
   "metadata": {},
   "outputs": [
    {
     "data": {
      "text/plain": [
       "np.float64(1.4779069767441861)"
      ]
     },
     "execution_count": 268,
     "metadata": {},
     "output_type": "execute_result"
    }
   ],
   "source": [
    "data['DISPATCH UNIT'] = data['DISPATCH UNIT'].str.replace(r\"^\\w\\s,\", \"\")\n",
    "data['COUNT UNITS'] = data['DISPATCH UNIT'].str.count(',') + 1\n",
    "data['COUNT UNITS'].mean()"
   ]
  },
  {
   "cell_type": "markdown",
   "id": "70ea9c28",
   "metadata": {},
   "source": [
    "There is an average of between 1 and 2 units being dispatched at any time, with the literal value being 1.478 units on average."
   ]
  },
  {
   "cell_type": "code",
   "execution_count": 269,
   "id": "262e921d",
   "metadata": {},
   "outputs": [
    {
     "data": {
      "text/plain": [
       "0    A\n",
       "Name: SHIFT, dtype: object"
      ]
     },
     "execution_count": 269,
     "metadata": {},
     "output_type": "execute_result"
    }
   ],
   "source": [
    "data['SHIFT'].mode()"
   ]
  },
  {
   "cell_type": "markdown",
   "id": "23a74ccf",
   "metadata": {},
   "source": [
    "The shift that is dispatched most often is shift A."
   ]
  },
  {
   "cell_type": "code",
   "execution_count": 270,
   "id": "c89fc31d",
   "metadata": {},
   "outputs": [
    {
     "name": "stdout",
     "output_type": "stream",
     "text": [
      "DAYS OF WEEK  Sunday  Monday  Tuesday  Wednesday  Thursday  Friday  Saturday  \\\n",
      "HOURS                                                                          \n",
      "0                  4       7        6          4         1       2         7   \n",
      "1                  7       8        7          7         4       3         5   \n",
      "2                  7       4        3          2         2       3         7   \n",
      "3                  4       6        8          9         1      10         4   \n",
      "4                  4       2        4          5         2       6         4   \n",
      "5                  4       8        3          6         5       3         2   \n",
      "6                  9       5        5          6         6       8         6   \n",
      "7                  7      13       13          6         7      11         4   \n",
      "8                 11      11        9         13         7       6         4   \n",
      "9                 11       8       14         11        12      12         7   \n",
      "10                11      16       12          9        10      11        13   \n",
      "11                10      15       13         12        17      16        11   \n",
      "12                17      15       12         11        17      19         9   \n",
      "13                18      16       11         10         9      12        14   \n",
      "14                13      15       19         11        15      15        14   \n",
      "15                14      13       19         23        22      15        13   \n",
      "16                 9      17       18         10        15      16        11   \n",
      "17                13      19       11         17         8      23        14   \n",
      "18                 8      16       16         22        20       8        13   \n",
      "19                 7      16        8         15        12      12        15   \n",
      "20                 9      15       12         21        14      12        18   \n",
      "21                 7      11       13          8        10      12        11   \n",
      "22                12       4       11         15         8      12        16   \n",
      "23                 5       7        6          5         6       7        15   \n",
      "Totals           221     267      253        258       230     254       237   \n",
      "\n",
      "DAYS OF WEEK  Totals  \n",
      "HOURS                 \n",
      "0                 31  \n",
      "1                 41  \n",
      "2                 28  \n",
      "3                 42  \n",
      "4                 27  \n",
      "5                 31  \n",
      "6                 45  \n",
      "7                 61  \n",
      "8                 61  \n",
      "9                 75  \n",
      "10                82  \n",
      "11                94  \n",
      "12               100  \n",
      "13                90  \n",
      "14               102  \n",
      "15               119  \n",
      "16                96  \n",
      "17               105  \n",
      "18               103  \n",
      "19                85  \n",
      "20               101  \n",
      "21                72  \n",
      "22                78  \n",
      "23                51  \n",
      "Totals          1720  \n"
     ]
    }
   ],
   "source": [
    "days = ['Sunday', 'Monday', 'Tuesday', 'Wednesday', 'Thursday', 'Friday', 'Saturday']\n",
    "data['DAYS OF WEEK'] = pan.Categorical(data['ALARM DATE TIME'].dt.day_name(), categories=days, ordered=True)\n",
    "data['HOURS'] = data['ALARM DATE TIME'].dt.hour\n",
    "\n",
    "matrix = data.pivot_table(\n",
    "    index='HOURS',\n",
    "    columns = 'DAYS OF WEEK',\n",
    "    values='XREF ID',\n",
    "    aggfunc='count',\n",
    "    fill_value=0,\n",
    "    observed=False,\n",
    "    margins=True,\n",
    "    margins_name=\"Totals\"\n",
    ")\n",
    "\n",
    "print(matrix)\n"
   ]
  },
  {
   "cell_type": "code",
   "execution_count": null,
   "id": "447f2fc1",
   "metadata": {},
   "outputs": [
    {
     "name": "stdout",
     "output_type": "stream",
     "text": [
      "0.326139922806979\n",
      "0.26093195747580833\n"
     ]
    }
   ],
   "source": [
    "matrix = data.pivot_table(\n",
    "    index='HOURS',\n",
    "    columns = 'DAYS OF WEEK',\n",
    "    values='XREF ID',\n",
    "    aggfunc='count',\n",
    "    fill_value=0,\n",
    "    observed=False,\n",
    ")\n",
    "\n",
    "X = matrix.values\n",
    "kmeans = KMeans(n_clusters=3, random_state=10,)\n",
    "kmeans_titles = kmeans.fit_predict(X)\n",
    "\n",
    "birch = Birch(threshold=0.01, n_clusters =3)\n",
    "birch_titles = birch.fit_predict(X)\n",
    "\n",
    "kmeans_score = silhouette_score(X, kmeans_titles)\n",
    "birch_score = silhouette_score(X, birch_titles)\n",
    "\n",
    "print(kmeans_score)\n",
    "print(birch_score)"
   ]
  },
  {
   "cell_type": "markdown",
   "id": "03df3eff",
   "metadata": {},
   "source": [
    "The Kmeans method performs better at the given parameters. "
   ]
  }
 ],
 "metadata": {
  "kernelspec": {
   "display_name": "sklearn-env",
   "language": "python",
   "name": "python3"
  },
  "language_info": {
   "codemirror_mode": {
    "name": "ipython",
    "version": 3
   },
   "file_extension": ".py",
   "mimetype": "text/x-python",
   "name": "python",
   "nbconvert_exporter": "python",
   "pygments_lexer": "ipython3",
   "version": "3.13.7"
  }
 },
 "nbformat": 4,
 "nbformat_minor": 5
}
